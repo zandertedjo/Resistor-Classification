{
 "cells": [
  {
   "cell_type": "code",
   "execution_count": 1,
   "metadata": {},
   "outputs": [
    {
     "name": "stdout",
     "output_type": "stream",
     "text": [
      "Requirement already satisfied: opencv-python in c:\\users\\zande\\anaconda3\\lib\\site-packages (4.4.0.44)\n",
      "Requirement already satisfied: numpy>=1.14.5 in c:\\users\\zande\\anaconda3\\lib\\site-packages (from opencv-python) (1.16.5)\n",
      "Note: you may need to restart the kernel to use updated packages.\n"
     ]
    }
   ],
   "source": [
    "pip install opencv-python"
   ]
  },
  {
   "cell_type": "code",
   "execution_count": 17,
   "metadata": {},
   "outputs": [],
   "source": [
    "import cv2\n",
    "import numpy as np\n",
    "from matplotlib import pyplot as plt\n",
    "import math\n",
    "import pandas as pd\n",
    "%matplotlib inline\n",
    "\n",
    "from sklearn.neighbors import KNeighborsClassifier\n"
   ]
  },
  {
   "cell_type": "code",
   "execution_count": 11,
   "metadata": {},
   "outputs": [
    {
     "name": "stdout",
     "output_type": "stream",
     "text": [
      "<class 'numpy.ndarray'>\n",
      "[[188 119 102]\n",
      " [188 120 102]\n",
      " [188 121 102]\n",
      " [188 121 102]\n",
      " [189 119 103]\n",
      " [189 119 103]\n",
      " [188 119 103]\n",
      " [188 119 103]\n",
      " [189 119 103]\n",
      " [189 119 103]\n",
      " [190 119 103]\n",
      " [190 119 103]\n",
      " [192 119 103]\n",
      " [191 119 103]\n",
      " [190 119 103]\n",
      " [189 119 103]\n",
      " [189 119 103]\n",
      " [189 119 103]\n",
      " [189 119 103]\n",
      " [189 119 103]]\n"
     ]
    }
   ],
   "source": [
    "img = cv2.imread(\"res.jpg\")\n",
    "print(type(img))\n",
    "\n",
    "lab = cv2.cvtColor(img, cv2.COLOR_RGB2LAB)\n",
    "print(lab[150][500:520])"
   ]
  },
  {
   "cell_type": "code",
   "execution_count": 15,
   "metadata": {},
   "outputs": [
    {
     "name": "stdout",
     "output_type": "stream",
     "text": [
      "      r    g    b   Color\n",
      "0   217  160   91    gold\n",
      "1   170  106   53    gold\n",
      "2   189  125   62    gold\n",
      "3   198  138   78    gold\n",
      "4   205  138   66    gold\n",
      "5   225  198  153   beige\n",
      "6   237  198  147   beige\n",
      "7   216  174  118   beige\n",
      "8   214  168  115   beige\n",
      "9   233  196  141   beige\n",
      "10   90  183   39   green\n",
      "11   72  177   30   green\n",
      "12   76  135   39   green\n",
      "13  153  205  103   green\n",
      "14   87  184   33   green\n",
      "15   33  121  171    blue\n",
      "16   31  123  176    blue\n",
      "17   17  103  170    blue\n",
      "18   48   84  118    blue\n",
      "19    2   94  149    blue\n",
      "20  254  134   29  orange\n",
      "21  233   99   20  orange\n",
      "22  236  108   23  orange\n",
      "23  251  144   54  orange\n",
      "24  219   89   18  orange\n"
     ]
    }
   ],
   "source": [
    "df = pd.read_excel('Color RGB List.xlsx')\n",
    "X = df.drop(['Color'], axis=1)\n",
    "Y = df['Color']\n",
    "print(dataset)"
   ]
  },
  {
   "cell_type": "code",
   "execution_count": 22,
   "metadata": {},
   "outputs": [
    {
     "name": "stdout",
     "output_type": "stream",
     "text": [
      "['green']\n"
     ]
    }
   ],
   "source": [
    "clf = KNeighborsClassifier()\n",
    "clf.fit(X,Y)\n",
    "y_pred = clf.predict([[93,166,38]])\n",
    "print(y_pred)"
   ]
  },
  {
   "cell_type": "code",
   "execution_count": null,
   "metadata": {},
   "outputs": [],
   "source": []
  }
 ],
 "metadata": {
  "kernelspec": {
   "display_name": "Python 3",
   "language": "python",
   "name": "python3"
  },
  "language_info": {
   "codemirror_mode": {
    "name": "ipython",
    "version": 3
   },
   "file_extension": ".py",
   "mimetype": "text/x-python",
   "name": "python",
   "nbconvert_exporter": "python",
   "pygments_lexer": "ipython3",
   "version": "3.7.4"
  }
 },
 "nbformat": 4,
 "nbformat_minor": 2
}
